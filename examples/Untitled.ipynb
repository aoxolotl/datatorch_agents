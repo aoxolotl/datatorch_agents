{
 "cells": [
  {
   "cell_type": "code",
   "execution_count": 1,
   "metadata": {},
   "outputs": [],
   "source": [
    "%load_ext autoreload\n",
    "%autoreload 2"
   ]
  },
  {
   "cell_type": "code",
   "execution_count": 6,
   "metadata": {},
   "outputs": [],
   "source": [
    "from datatorch.agent.flows import Flow\n",
    "import os\n",
    "import logging\n",
    "\n",
    "logging.basicConfig(\n",
    "    format=\"%(levelname)-8s %(message)s\",\n",
    "    level=logging.DEBUG,\n",
    ")"
   ]
  },
  {
   "cell_type": "code",
   "execution_count": 8,
   "metadata": {},
   "outputs": [
    {
     "name": "stderr",
     "output_type": "stream",
     "text": [
      "DEBUG    Action found locally (datatorch/example-command@1).\n",
      "INFO     Running command 'echo hello world'\n",
      "DEBUG    Action found locally (datatorch/example-commands@1).\n",
      "INFO     Running command 'echo line 1\n",
      "echo line 2\n",
      "echo line 3\n",
      "echo line 4\n",
      "echo line 5\n",
      "'\n",
      "DEBUG    Action found locally (datatorch/example-shell@1).\n",
      "INFO     Running shell script '/home/justin/datatorch/actions/datatorch/example-shell/1/echo.sh'\n"
     ]
    },
    {
     "name": "stdout",
     "output_type": "stream",
     "text": [
      "SUPER\n",
      "hello world\n",
      "\n",
      "SUPER\n",
      "line 1\n",
      "line 2\n",
      "line 3\n",
      "line 4\n",
      "line 5\n",
      "\n",
      "SUPER\n",
      "Hello world 1\n",
      "Hello world 2\n",
      "Hello world 3\n",
      "Hello world 4\n",
      "Hello world 5\n",
      "\n"
     ]
    }
   ],
   "source": [
    "flow = Flow.from_yaml('flow.yaml')\n",
    "action = flow.jobs[0].steps[0].action()\n",
    "action.run(None, None)\n",
    "action = flow.jobs[0].steps[1].action()\n",
    "action.run(None, None)\n",
    "action = flow.jobs[0].steps[2].action()\n",
    "action.run(None, None)"
   ]
  },
  {
   "cell_type": "code",
   "execution_count": null,
   "metadata": {},
   "outputs": [],
   "source": [
    "action = flow.jobs[0].steps[1].action()\n",
    "action.run(None, None)"
   ]
  },
  {
   "cell_type": "code",
   "execution_count": null,
   "metadata": {},
   "outputs": [],
   "source": []
  }
 ],
 "metadata": {
  "kernelspec": {
   "display_name": "Python 3",
   "language": "python",
   "name": "python3"
  },
  "language_info": {
   "codemirror_mode": {
    "name": "ipython",
    "version": 3
   },
   "file_extension": ".py",
   "mimetype": "text/x-python",
   "name": "python",
   "nbconvert_exporter": "python",
   "pygments_lexer": "ipython3",
   "version": "3.8.2"
  }
 },
 "nbformat": 4,
 "nbformat_minor": 4
}
