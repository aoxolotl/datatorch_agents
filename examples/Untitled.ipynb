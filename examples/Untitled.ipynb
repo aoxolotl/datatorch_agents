{
 "cells": [
  {
   "cell_type": "code",
   "execution_count": 2,
   "metadata": {},
   "outputs": [],
   "source": [
    "%load_ext autoreload\n",
    "%autoreload 2"
   ]
  },
  {
   "cell_type": "code",
   "execution_count": 34,
   "metadata": {},
   "outputs": [],
   "source": [
    "from datatorch.agent.flows import Flow\n",
    "import os\n",
    "import logging\n",
    "\n",
    "logging.basicConfig(\n",
    "    format=\"%(levelname)-8s %(message)s\",\n",
    "    level=logging.DEBUG,\n",
    ")"
   ]
  },
  {
   "cell_type": "code",
   "execution_count": 44,
   "metadata": {},
   "outputs": [
    {
     "name": "stderr",
     "output_type": "stream",
     "text": [
      "DEBUG    Action found locally (datatorch/example-command@1).\n",
      "DEBUG    Running Command Example@1\n",
      "DEBUG    Action found locally (datatorch/example-commands@1).\n",
      "DEBUG    Running Multiple Command Example@1\n",
      "DEBUG    Action found locally (datatorch/example-shell@1).\n",
      "DEBUG    Running Shell Script Example@1\n",
      "INFO     Running shell script '/home/justin/datatorch/actions/datatorch/example-shell/1/echo.sh 3.8.2'\n",
      "INFO     Successfully completed job.\n"
     ]
    },
    {
     "name": "stdout",
     "output_type": "stream",
     "text": [
      "You are using python v3.8.2 with CPython on Linux.\n",
      "\n",
      "line 1\n",
      "line 2\n",
      "line 3\n",
      "line 4\n",
      "line 5\n",
      "\n",
      "Hello world,\n",
      "This agent is using\n",
      "python version 3.8.2\n",
      "\n"
     ]
    }
   ],
   "source": [
    "flow = Flow.from_yaml('flow.yaml')\n",
    "flow.run(0)"
   ]
  },
  {
   "cell_type": "code",
   "execution_count": 42,
   "metadata": {},
   "outputs": [
    {
     "name": "stderr",
     "output_type": "stream",
     "text": [
      "DEBUG    Action found locally (datatorch/example-commands@1).\n",
      "INFO     Running command 'echo line 1\n",
      "echo line 2\n",
      "echo line 3\n",
      "echo line 4\n",
      "echo line 5'\n"
     ]
    },
    {
     "name": "stdout",
     "output_type": "stream",
     "text": [
      "line 1\n",
      "line 2\n",
      "line 3\n",
      "line 4\n",
      "line 5\n",
      "\n"
     ]
    }
   ],
   "source": [
    "action = flow.jobs[0].steps[1].action()\n",
    "action.run(None, None)"
   ]
  },
  {
   "cell_type": "code",
   "execution_count": null,
   "metadata": {},
   "outputs": [],
   "source": []
  }
 ],
 "metadata": {
  "kernelspec": {
   "display_name": "Python 3",
   "language": "python",
   "name": "python3"
  },
  "language_info": {
   "codemirror_mode": {
    "name": "ipython",
    "version": 3
   },
   "file_extension": ".py",
   "mimetype": "text/x-python",
   "name": "python",
   "nbconvert_exporter": "python",
   "pygments_lexer": "ipython3",
   "version": "3.8.2"
  }
 },
 "nbformat": 4,
 "nbformat_minor": 4
}
