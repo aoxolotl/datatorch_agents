{
 "cells": [
  {
   "cell_type": "code",
   "execution_count": 13,
   "metadata": {},
   "outputs": [],
   "source": [
    "%load_ext autoreload\n",
    "%autoreload 2"
   ]
  },
  {
   "cell_type": "code",
   "execution_count": 14,
   "metadata": {},
   "outputs": [],
   "source": [
    "from datatorch.agent.flows import Flow\n",
    "import os\n",
    "import logging\n",
    "import asyncio\n",
    "\n",
    "logging.basicConfig(\n",
    "    format=\"%(levelname)-8s %(message)s\",\n",
    "    level=logging.DEBUG,\n",
    ")"
   ]
  },
  {
   "cell_type": "code",
   "execution_count": 15,
   "metadata": {},
   "outputs": [
    {
     "name": "stderr",
     "output_type": "stream",
     "text": [
      "DEBUG    Action found locally (datatorch/example-command@1).\n",
      "INFO     Running action datatorch/example-command@1\n",
      "DEBUG    Finished running 'Command Example' v1\n",
      "DEBUG    Action found locally (datatorch/example-commands@1).\n",
      "INFO     Running action datatorch/example-commands@1\n"
     ]
    },
    {
     "name": "stdout",
     "output_type": "stream",
     "text": [
      "b'You are using python v3.8.2 with CPython on .\\n'\n"
     ]
    },
    {
     "name": "stderr",
     "output_type": "stream",
     "text": [
      "DEBUG    Finished running 'Multiple Command Example' v1\n",
      "DEBUG    Action found locally (datatorch/example-shell@1).\n",
      "INFO     Running action datatorch/example-shell@1\n",
      "DEBUG    Finished running 'Shell Script Example' v1\n",
      "INFO     Successfully completed job.\n"
     ]
    },
    {
     "name": "stdout",
     "output_type": "stream",
     "text": [
      "b'line 1\\n'\n",
      "b'line 2\\n'\n",
      "b'line 3\\n'\n",
      "b'line 4\\n'\n",
      "b'line 5\\n'\n",
      "b'line 6\\n'\n"
     ]
    }
   ],
   "source": [
    "flow = Flow.from_yaml('flow.yaml')\n",
    "task = asyncio.create_task(flow.run(0))"
   ]
  },
  {
   "cell_type": "code",
   "execution_count": 4,
   "metadata": {},
   "outputs": [],
   "source": [
    "import asyncio\n",
    "import concurrent.futures\n",
    "\n",
    "def blocking_io():\n",
    "    # File operations (such as logging) can block the\n",
    "    # event loop: run them in a thread pool.\n",
    "    with open('/dev/urandom', 'rb') as f:\n",
    "        return f.read(100)\n",
    "\n",
    "def cpu_bound():\n",
    "    # CPU-bound operations will block the event loop:\n",
    "    # in general it is preferable to run them in a\n",
    "    # process pool.\n",
    "    return sum(i * i for i in range(10 ** 7))\n",
    "\n",
    "async def main():\n",
    "    loop = asyncio.get_running_loop()\n",
    "\n",
    "    ## Options:\n",
    "\n",
    "    # 1. Run in the default loop's executor:\n",
    "    result = await loop.run_in_executor(\n",
    "        None, blocking_io)\n",
    "    print('default thread pool', result)\n",
    "\n",
    "    # 2. Run in a custom thread pool:\n",
    "    with concurrent.futures.ThreadPoolExecutor() as pool:\n",
    "        result = await loop.run_in_executor(\n",
    "            pool, blocking_io)\n",
    "        print('custom thread pool', result)\n",
    "\n",
    "    # 3. Run in a custom process pool:\n",
    "    with concurrent.futures.ProcessPoolExecutor() as pool:\n",
    "        result = await loop.run_in_executor(\n",
    "            pool, cpu_bound)\n",
    "        print('custom process pool', result)"
   ]
  },
  {
   "cell_type": "code",
   "execution_count": 11,
   "metadata": {},
   "outputs": [
    {
     "data": {
      "text/plain": [
       "1594154237952"
      ]
     },
     "execution_count": 11,
     "metadata": {},
     "output_type": "execute_result"
    }
   ],
   "source": [
    "import time\n",
    "round(time.time()*1000)"
   ]
  },
  {
   "cell_type": "code",
   "execution_count": 7,
   "metadata": {},
   "outputs": [],
   "source": [
    "import aiodocker"
   ]
  },
  {
   "cell_type": "code",
   "execution_count": 30,
   "metadata": {},
   "outputs": [
    {
     "name": "stderr",
     "output_type": "stream",
     "text": [
      "ERROR    Task exception was never retrieved\n",
      "future: <Task finished name='Task-125' coro=<docker_testing() done, defined at <ipython-input-29-97b68cf03d4d>:1> exception=DockerError(404, \"pull access denied for hello-world2, repository does not exist or may require 'docker login': denied: requested access to the resource is denied\")>\n",
      "Traceback (most recent call last):\n",
      "  File \"/home/justin/.local/lib/python3.8/site-packages/aiodocker/containers.py\", line 67, in run\n",
      "    container = await self.create(config, name=name)\n",
      "  File \"/home/justin/.local/lib/python3.8/site-packages/aiodocker/containers.py\", line 54, in create\n",
      "    data = await self.docker._query_json(\n",
      "  File \"/home/justin/.local/lib/python3.8/site-packages/aiodocker/docker.py\", line 293, in _query_json\n",
      "    async with self._query(\n",
      "  File \"/home/justin/.local/lib/python3.8/site-packages/aiodocker/utils.py\", line 309, in __aenter__\n",
      "    resp = await self._coro\n",
      "  File \"/home/justin/.local/lib/python3.8/site-packages/aiodocker/docker.py\", line 268, in _do_query\n",
      "    raise DockerError(response.status, json.loads(what.decode(\"utf8\")))\n",
      "aiodocker.exceptions.DockerError: DockerError(404, 'No such image: hello-world2:latest')\n",
      "\n",
      "During handling of the above exception, another exception occurred:\n",
      "\n",
      "Traceback (most recent call last):\n",
      "  File \"<ipython-input-29-97b68cf03d4d>\", line 3, in docker_testing\n",
      "    container = await docker.containers.run({ 'Image': 'hello-world2' })\n",
      "  File \"/home/justin/.local/lib/python3.8/site-packages/aiodocker/containers.py\", line 71, in run\n",
      "    await self.docker.pull(config[\"Image\"])\n",
      "  File \"/home/justin/.local/lib/python3.8/site-packages/aiodocker/images.py\", line 133, in _handle_list\n",
      "    async with cm as response:\n",
      "  File \"/home/justin/.local/lib/python3.8/site-packages/aiodocker/utils.py\", line 309, in __aenter__\n",
      "    resp = await self._coro\n",
      "  File \"/home/justin/.local/lib/python3.8/site-packages/aiodocker/docker.py\", line 268, in _do_query\n",
      "    raise DockerError(response.status, json.loads(what.decode(\"utf8\")))\n",
      "aiodocker.exceptions.DockerError: DockerError(404, \"pull access denied for hello-world2, repository does not exist or may require 'docker login': denied: requested access to the resource is denied\")\n"
     ]
    }
   ],
   "source": [
    "async def docker_testing():\n",
    "    docker = aiodocker.Docker()\n",
    "    container = await docker.containers.run({ 'Image': 'hello-world2' })\n",
    "    await container.start()\n",
    "#     logs = await container.log(stdout=True, follow=True)\n",
    "    async for log in container.log(stdout=True, follow=True):\n",
    "        print(log.strip().strip('\\n'))\n",
    "    await container.delete(force=True)\n",
    "    await docker.close()\n",
    "\n",
    "task = asyncio.create_task(docker_testing())"
   ]
  },
  {
   "cell_type": "code",
   "execution_count": null,
   "metadata": {},
   "outputs": [],
   "source": []
  }
 ],
 "metadata": {
  "kernelspec": {
   "display_name": "Python 3",
   "language": "python",
   "name": "python3"
  },
  "language_info": {
   "codemirror_mode": {
    "name": "ipython",
    "version": 3
   },
   "file_extension": ".py",
   "mimetype": "text/x-python",
   "name": "python",
   "nbconvert_exporter": "python",
   "pygments_lexer": "ipython3",
   "version": "3.8.2"
  }
 },
 "nbformat": 4,
 "nbformat_minor": 4
}
